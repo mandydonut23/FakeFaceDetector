{
 "cells": [
  {
   "cell_type": "code",
   "execution_count": 2,
   "metadata": {},
   "outputs": [],
   "source": [
    "# Step 1: User inputs \n",
    "# img_path = \"/Users/mandylee/Documents/AI/baby.jpg\"\n",
    "img_path = '/Users/mandylee/Documents/AI/GenAIProject/ArtiFace/Fake/StarGAN/StarGAN.2324.jpg'"
   ]
  },
  {
   "cell_type": "code",
   "execution_count": 3,
   "metadata": {},
   "outputs": [
    {
     "name": "stderr",
     "output_type": "stream",
     "text": [
      "2025-03-31 21:16:08.078427: I metal_plugin/src/device/metal_device.cc:1154] Metal device set to: Apple M3\n",
      "2025-03-31 21:16:08.078458: I metal_plugin/src/device/metal_device.cc:296] systemMemory: 16.00 GB\n",
      "2025-03-31 21:16:08.078464: I metal_plugin/src/device/metal_device.cc:313] maxCacheSize: 5.33 GB\n",
      "WARNING: All log messages before absl::InitializeLog() is called are written to STDERR\n",
      "I0000 00:00:1743426968.078498  424065 pluggable_device_factory.cc:305] Could not identify NUMA node of platform GPU ID 0, defaulting to 0. Your kernel may not have been built with NUMA support.\n",
      "I0000 00:00:1743426968.078536  424065 pluggable_device_factory.cc:271] Created TensorFlow device (/job:localhost/replica:0/task:0/device:GPU:0 with 0 MB memory) -> physical PluggableDevice (device: 0, name: METAL, pci bus id: <undefined>)\n",
      "2025-03-31 21:16:09.776037: I tensorflow/core/grappler/optimizers/custom_graph_optimizer_registry.cc:117] Plugin optimizer for device_type GPU is enabled.\n",
      "WARNING: All log messages before absl::InitializeLog() is called are written to STDERR\n",
      "E0000 00:00:1743426969.831675  424065 meta_optimizer.cc:967] PluggableGraphOptimizer failed: INVALID_ARGUMENT: Failed to deserialize the `graph_buf`.\n"
     ]
    },
    {
     "name": "stdout",
     "output_type": "stream",
     "text": [
      "\u001b[1m1/1\u001b[0m \u001b[32m━━━━━━━━━━━━━━━━━━━━\u001b[0m\u001b[37m\u001b[0m \u001b[1m1s\u001b[0m 1s/step\n",
      "[[0.13314795 0.86685205]]\n",
      "[[5.0407014e-04 9.9949586e-01]]\n",
      "Final Prediction: Fake (Confidence: 0.99)\n"
     ]
    }
   ],
   "source": [
    "import tensorflow as tf\n",
    "import numpy as np\n",
    "import cv2\n",
    "import joblib  # For loading the meta-classifier\n",
    "import tensorflow as tf\n",
    "import pandas as pd\n",
    "import numpy as np\n",
    "from tensorflow.keras.preprocessing.image import ImageDataGenerator\n",
    "import torch\n",
    "from torchvision import transforms\n",
    "from torch.utils.data import DataLoader\n",
    "\n",
    "# Load trained models\n",
    "# Load MobileNetV2\n",
    "mobilenet_model = tf.keras.models.load_model(\"/Users/mandylee/Documents/AI/GenAIProject/MarchRuns/Metaclassifier/mobilenet_final_model-finetuned2.keras\")\n",
    "\n",
    "# Load ViT\n",
    "device = torch.device(\"cuda\" if torch.cuda.is_available() else \"cpu\")\n",
    "model_path = \"/Users/mandylee/Documents/AI/GenAIProject/MarchRuns/Metaclassifier/model2_complete.pth\"\n",
    "vit_model = torch.load(model_path, map_location=device, weights_only=False)\n",
    "vit_model.to(device)\n",
    "\n",
    "# Load Metaclassifier\n",
    "meta_classifier = joblib.load(\"/Users/mandylee/Documents/AI/GenAIProject/MarchRuns/Metaclassifier/meta_classifierprob.pkl\")\n",
    "\n",
    "# Preprocessing for MobileNetV2 (Single Image)\n",
    "def preprocess_for_mobilenet(img_path):\n",
    "    image = cv2.imread(img_path)\n",
    "    image = cv2.cvtColor(image, cv2.COLOR_BGR2RGB)  # Convert BGR to RGB\n",
    "    image = cv2.resize(image, (224, 224))  # Resize to MobileNetV2 input size\n",
    "    image = image.astype(\"float32\") / 255.0  # Normalize\n",
    "    image = np.expand_dims(image, axis=0)  # Add batch dimension (1, 224, 224, 3)\n",
    "    return image\n",
    "\n",
    "# Preprocessing for ViT (Single Image)\n",
    "def preprocess_for_vit(img_path):\n",
    "    transform = transforms.Compose([\n",
    "        transforms.ToPILImage(),\n",
    "        transforms.Resize((224, 224)),\n",
    "        transforms.ToTensor(),\n",
    "        transforms.Normalize(mean=[0.485, 0.456, 0.406], std=[0.229, 0.224, 0.225])\n",
    "    ])\n",
    "    image = cv2.imread(img_path)\n",
    "    image = cv2.cvtColor(image, cv2.COLOR_BGR2RGB)\n",
    "    image = transform(image)  # Apply transformations\n",
    "    image = image.unsqueeze(0)  # Add batch dimension (1, 3, 224, 224)\n",
    "    return image.to(device)\n",
    "\n",
    "# Function to predict \n",
    "def predict_real_or_fake(img_path):\n",
    "\n",
    "    # Get MobileNetV2 probabilities\n",
    "    mobilenet_input = preprocess_for_mobilenet(img_path)\n",
    "    mobilenet_probs = mobilenet_model.predict(mobilenet_input)  # Probability of Fake\n",
    "    mobilenet_probs = np.hstack([1 - mobilenet_probs, mobilenet_probs])  # Convert to [Real prob, Fake prob]\n",
    "    print(mobilenet_probs)\n",
    "\n",
    "    # Get ViT Probabilities\n",
    "    vit_input = preprocess_for_vit(img_path)\n",
    "    with torch.no_grad():\n",
    "        outputs = vit_model(vit_input)\n",
    "        vit_probs = torch.nn.functional.softmax(outputs, dim=1).cpu().numpy()  # Convert to probabilities [Real prob, Fake prob]\n",
    "        print(vit_probs)\n",
    "\n",
    "    # Combine all probabilities [Real_ViT, Fake_ViT, Real_MobileNet, Fake_MobileNet]\n",
    "    new_data = pd.DataFrame({\n",
    "        \"ViT_Prob_Real\": [vit_probs[0, 0]],   # ViT probability of real\n",
    "        \"ViT_Prob_Fake\": [vit_probs[0, 1]],   # ViT probability of fake\n",
    "        \"MobileNet_Prob_Real\": [mobilenet_probs[0, 0]],  # MobileNet probability of real\n",
    "        \"MobileNet_Prob_Fake\": [mobilenet_probs[0, 1]]   # MobileNet probability of fake\n",
    "    })\n",
    "\n",
    "    # Get final prediction\n",
    "    final_prediction = meta_classifier.predict(new_data)[0]  # 0 = Real, 1 = Fake\n",
    "    confidence = meta_classifier.predict_proba(new_data)[0][final_prediction]  # Confidence score\n",
    "\n",
    "    result = \"Fake\" if final_prediction == 1 else \"Real\"\n",
    "    print(f\"Final Prediction: {result} (Confidence: {confidence:.2f})\")\n",
    "\n",
    "predict_real_or_fake(img_path)"
   ]
  }
 ],
 "metadata": {
  "kernelspec": {
   "display_name": "base",
   "language": "python",
   "name": "python3"
  },
  "language_info": {
   "codemirror_mode": {
    "name": "ipython",
    "version": 3
   },
   "file_extension": ".py",
   "mimetype": "text/x-python",
   "name": "python",
   "nbconvert_exporter": "python",
   "pygments_lexer": "ipython3",
   "version": "3.12.7"
  }
 },
 "nbformat": 4,
 "nbformat_minor": 2
}
