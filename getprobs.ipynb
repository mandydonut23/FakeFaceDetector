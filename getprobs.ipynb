{
 "cells": [
  {
   "cell_type": "code",
   "execution_count": 1,
   "metadata": {},
   "outputs": [],
   "source": [
    "# Step 1: Load ViT\n",
    "\n",
    "# Reload my test dataset \n",
    "import pandas as pd\n",
    "import torch\n",
    "from torchvision import transforms\n",
    "from torch.utils.data import DataLoader\n",
    "from csv_dataset import CSVDataset  # Ensure this class is implemented correctly\n",
    "\n",
    "# Define transformations (same as used during testing)\n",
    "transform = transforms.Compose([\n",
    "    transforms.Resize((224, 224)),\n",
    "    transforms.ToTensor(),\n",
    "    transforms.Normalize(mean=[0.485, 0.456, 0.406], std=[0.229, 0.224, 0.225])  # ImageNet normalization\n",
    "])\n",
    "\n",
    "# Reload sampled test dataset\n",
    "test_df = pd.read_csv(\"sampled_test.csv\")  # Ensure file exists\n",
    "\n",
    "# Create dataset & dataloader\n",
    "test_data = CSVDataset(\"sampled_test.csv\", transform=transform)\n",
    "test_dataloader = DataLoader(test_data, batch_size=32, shuffle=False, num_workers=4, pin_memory=True)\n"
   ]
  },
  {
   "cell_type": "code",
   "execution_count": 2,
   "metadata": {},
   "outputs": [
    {
     "name": "stdout",
     "output_type": "stream",
     "text": [
      "Batch shape: torch.Size([32, 3, 224, 224]) torch.Size([32])\n",
      "Sample labels: tensor([1, 0, 1, 0, 1, 1, 0, 1, 0, 1])\n"
     ]
    }
   ],
   "source": [
    "# Debug: Check if test_dataloader loads data correctly\n",
    "data_iter = iter(test_dataloader)\n",
    "try:\n",
    "    images, labels = next(data_iter)\n",
    "    print(\"Batch shape:\", images.shape, labels.shape)\n",
    "    print(\"Sample labels:\", labels[:10])  # Print first 10 labels\n",
    "except StopIteration:\n",
    "    print(\"Error: test_dataloader is empty! Check your dataset loading.\")\n"
   ]
  },
  {
   "cell_type": "code",
   "execution_count": 3,
   "metadata": {},
   "outputs": [
    {
     "name": "stderr",
     "output_type": "stream",
     "text": [
      "ViT Predictions: 100%|██████████| 63/63 [02:18<00:00,  2.19s/batch]\n"
     ]
    }
   ],
   "source": [
    "import torch\n",
    "import numpy as np\n",
    "import matplotlib.pyplot as plt\n",
    "from sklearn.metrics import confusion_matrix, ConfusionMatrixDisplay, classification_report\n",
    "from tqdm import tqdm  # Import tqdm for progress bar\n",
    "\n",
    "# Set device\n",
    "device = torch.device(\"cuda\" if torch.cuda.is_available() else \"cpu\")\n",
    "\n",
    "# Load trained model\n",
    "model_path = \"/Users/mandylee/Documents/AI/GenAIProject/MarchRuns/Metaclassifier/model2_complete.pth\"\n",
    "pretrained_vit = torch.load(model_path, map_location=device, weights_only=False)\n",
    "pretrained_vit.to(device)\n",
    "pretrained_vit.eval()\n",
    "\n",
    "# Get ViT predictions\n",
    "vit_probs = []  # Store probabilities\n",
    "\n",
    "with torch.no_grad():\n",
    "    for images, _ in tqdm(test_dataloader, desc=\"ViT Predictions\", unit=\"batch\"):\n",
    "        images = images.to(device)\n",
    "        outputs = pretrained_vit(images)\n",
    "        probs = torch.nn.functional.softmax(outputs, dim=1).cpu().numpy()  # Convert to probabilities\n",
    "        vit_probs.extend(probs)  # Store all probability pairs\n",
    "\n",
    "# Convert to a NumPy array for easy handling\n",
    "vit_probs = np.array(vit_probs)\n",
    "\n",
    "# Add probabilities as separate columns in DataFrame\n",
    "test_df[\"ViT_Prob_Real\"] = vit_probs[:, 0]  # Probability of Real\n",
    "test_df[\"ViT_Prob_Fake\"] = vit_probs[:, 1]  # Probability of Fake\n",
    "\n",
    "# # Save to CSV\n",
    "# test_df.to_csv(\"updatedprob_test25mar.csv\", index=False)\n",
    "# print(\"Saved ViT probabilities to updated_test.csv\")\n"
   ]
  },
  {
   "cell_type": "code",
   "execution_count": 4,
   "metadata": {},
   "outputs": [
    {
     "name": "stdout",
     "output_type": "stream",
     "text": [
      "[[5.2080886e-04 9.9947923e-01]\n",
      " [9.8388231e-01 1.6117666e-02]\n",
      " [3.1884709e-01 6.8115294e-01]\n",
      " ...\n",
      " [9.8710644e-01 1.2893634e-02]\n",
      " [1.3507353e-02 9.8649269e-01]\n",
      " [1.8466439e-02 9.8153359e-01]]\n"
     ]
    }
   ],
   "source": [
    "print(vit_probs)"
   ]
  },
  {
   "cell_type": "code",
   "execution_count": 9,
   "metadata": {},
   "outputs": [
    {
     "name": "stdout",
     "output_type": "stream",
     "text": [
      "Found 2000 validated image filenames belonging to 2 classes.\n"
     ]
    },
    {
     "name": "stderr",
     "output_type": "stream",
     "text": [
      "/opt/anaconda3/lib/python3.12/site-packages/keras/src/trainers/data_adapters/py_dataset_adapter.py:121: UserWarning: Your `PyDataset` class should call `super().__init__(**kwargs)` in its constructor. `**kwargs` can include `workers`, `use_multiprocessing`, `max_queue_size`. Do not pass these arguments to `fit()`, as they will be ignored.\n",
      "  self._warn_if_super_not_called()\n",
      "E0000 00:00:1742898259.148433 1122281 meta_optimizer.cc:967] PluggableGraphOptimizer failed: INVALID_ARGUMENT: Failed to deserialize the `graph_buf`.\n"
     ]
    },
    {
     "name": "stdout",
     "output_type": "stream",
     "text": [
      "\u001b[1m63/63\u001b[0m \u001b[32m━━━━━━━━━━━━━━━━━━━━\u001b[0m\u001b[37m\u001b[0m \u001b[1m9s\u001b[0m 120ms/step\n",
      "Updated 'updatedprob_test25mar.csv' with MobileNetV2 probabilities.\n"
     ]
    }
   ],
   "source": [
    "import tensorflow as tf\n",
    "import pandas as pd\n",
    "import numpy as np\n",
    "from tensorflow.keras.preprocessing.image import ImageDataGenerator\n",
    "\n",
    "# Load MobileNetV2 model\n",
    "mobilenet_model = tf.keras.models.load_model(\n",
    "    \"/Users/mandylee/Documents/AI/GenAIProject/MarchRuns/Metaclassifier/mobilenet_final_model-finetuned2.keras\"\n",
    ")\n",
    "\n",
    "# Load test dataset\n",
    "test_df = pd.read_csv(\"sampled_test.csv\")  # Load original test dataset\n",
    "\n",
    "# Ensure DataFrame has correct columns\n",
    "test_df = test_df[['image_path', 'label']].rename(columns={\"image_path\": \"filename\"})\n",
    "test_df['label'] = test_df['label'].astype(str)\n",
    "\n",
    "# Define ImageDataGenerator\n",
    "test_datagen = ImageDataGenerator(rescale=1./255)\n",
    "\n",
    "# Create test generator (shuffle=False to keep order intact)\n",
    "test_generator = test_datagen.flow_from_dataframe(\n",
    "    test_df,\n",
    "    x_col=\"filename\",\n",
    "    y_col=\"label\",\n",
    "    target_size=(224, 224),\n",
    "    batch_size=32,\n",
    "    class_mode='binary',  \n",
    "    shuffle=False\n",
    ")\n",
    "\n",
    "# Get MobileNetV2 probabilities\n",
    "mobilenet_probs = mobilenet_model.predict(test_generator)  # Probability of Fake\n",
    "mobilenet_probs = np.hstack([1 - mobilenet_probs, mobilenet_probs])  # Convert to [Real prob, Fake prob]\n",
    "\n",
    "# Convert probabilities to DataFrame\n",
    "mobilenet_df = pd.DataFrame(mobilenet_probs, columns=[\"MobileNet_Prob_Real\", \"MobileNet_Prob_Fake\"])\n",
    "\n",
    "# Load existing ViT results CSV\n",
    "vit_df = pd.read_csv(\"updatedprob_test25mar.csv\")\n",
    "\n",
    "# Ensure row order matches (important when merging)\n",
    "if len(vit_df) == len(mobilenet_df):\n",
    "    combined_df = pd.concat([vit_df, mobilenet_df], axis=1)  # Merge as new columns\n",
    "    combined_df.to_csv(\"updatedprob_test25mar.csv\", index=False)  # Save back\n",
    "    print(\"Updated 'updatedprob_test25mar.csv' with MobileNetV2 probabilities.\")\n",
    "else:\n",
    "    print(\"Error: Mismatch in dataset sizes. Ensure both test datasets match.\")"
   ]
  }
 ],
 "metadata": {
  "kernelspec": {
   "display_name": "base",
   "language": "python",
   "name": "python3"
  },
  "language_info": {
   "codemirror_mode": {
    "name": "ipython",
    "version": 3
   },
   "file_extension": ".py",
   "mimetype": "text/x-python",
   "name": "python",
   "nbconvert_exporter": "python",
   "pygments_lexer": "ipython3",
   "version": "3.12.7"
  }
 },
 "nbformat": 4,
 "nbformat_minor": 2
}
