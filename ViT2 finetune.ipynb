{
  "cells": [
    {
      "cell_type": "code",
      "execution_count": 1,
      "metadata": {},
      "outputs": [],
      "source": [
        "import matplotlib.pyplot as plt\n",
        "import torch\n",
        "import torchvision\n",
        "import random\n",
        "import numpy as np\n",
        "from torch import nn\n",
        "from torchvision import transforms"
      ]
    },
    {
      "cell_type": "code",
      "execution_count": 2,
      "metadata": {},
      "outputs": [
        {
          "data": {
            "text/plain": [
              "'cpu'"
            ]
          },
          "execution_count": 2,
          "metadata": {},
          "output_type": "execute_result"
        }
      ],
      "source": [
        "device = \"cuda\" if torch.cuda.is_available() else \"cpu\"\n",
        "device"
      ]
    },
    {
      "cell_type": "code",
      "execution_count": 3,
      "metadata": {},
      "outputs": [],
      "source": [
        "import torch\n",
        "import torchvision\n",
        "import torch.nn as nn\n",
        "import numpy as np\n",
        "import random\n",
        "\n",
        "device = torch.device(\"cuda\" if torch.cuda.is_available() else \"cpu\")\n",
        "\n",
        "# 1. Get pretrained weights for ViT-Base\n",
        "pretrained_vit_weights = torchvision.models.ViT_B_16_Weights.DEFAULT \n",
        "\n",
        "# 2. Setup a ViT model instance with pretrained weights\n",
        "pretrained_vit = torchvision.models.vit_b_16(weights=pretrained_vit_weights).to(device)\n",
        "\n",
        "# 3. Freeze the base transformer layers \n",
        "for param in pretrained_vit.parameters():  \n",
        "    param.requires_grad = False  \n",
        "\n",
        "# Unfreeze the last 4 encoder blocks\n",
        "for layer in list(pretrained_vit.encoder.layers.children())[-4:]:\n",
        "    for param in layer.parameters():\n",
        "        param.requires_grad = True\n",
        "\n",
        "# 4. Change the classifier head \n",
        "class_names = ['Real','Fake']\n",
        "\n",
        "def set_seeds(seed=42):\n",
        "    torch.manual_seed(seed)\n",
        "    np.random.seed(seed)\n",
        "    random.seed(seed)\n",
        "    if torch.cuda.is_available():\n",
        "        torch.cuda.manual_seed(seed)\n",
        "        torch.cuda.manual_seed_all(seed)\n",
        "        torch.backends.cudnn.deterministic = True\n",
        "        torch.backends.cudnn.benchmark = False\n",
        "\n",
        "set_seeds()\n",
        "\n",
        "# Get input feature size\n",
        "num_ftrs = pretrained_vit.heads.head.in_features  \n",
        "\n",
        "# Replace the classifier head\n",
        "pretrained_vit.heads.head = nn.Sequential(\n",
        "    nn.Linear(num_ftrs, 512),\n",
        "    nn.ReLU(),\n",
        "    nn.Dropout(0.5),\n",
        "    nn.Linear(512, 256),\n",
        "    nn.ReLU(),\n",
        "    nn.Linear(256, 2)  # Output 2 neurons (for 'Real' and 'Fake')\n",
        ").to(device)"
      ]
    },
    {
      "cell_type": "code",
      "execution_count": 4,
      "metadata": {},
      "outputs": [],
      "source": [
        "# %pip install torchinfo\n"
      ]
    },
    {
      "cell_type": "code",
      "execution_count": 5,
      "metadata": {},
      "outputs": [
        {
          "name": "stdout",
          "output_type": "stream",
          "text": [
            "1.8.0\n"
          ]
        }
      ],
      "source": [
        "import torchinfo\n",
        "print(torchinfo.__version__)\n"
      ]
    },
    {
      "cell_type": "code",
      "execution_count": 6,
      "metadata": {},
      "outputs": [
        {
          "data": {
            "text/plain": [
              "============================================================================================================================================\n",
              "Layer (type (var_name))                                      Input Shape          Output Shape         Param #              Trainable\n",
              "============================================================================================================================================\n",
              "VisionTransformer (VisionTransformer)                        [32, 3, 224, 224]    [32, 2]              768                  Partial\n",
              "├─Conv2d (conv_proj)                                         [32, 3, 224, 224]    [32, 768, 14, 14]    (590,592)            False\n",
              "├─Encoder (encoder)                                          [32, 197, 768]       [32, 197, 768]       151,296              Partial\n",
              "│    └─Dropout (dropout)                                     [32, 197, 768]       [32, 197, 768]       --                   --\n",
              "│    └─Sequential (layers)                                   [32, 197, 768]       [32, 197, 768]       --                   Partial\n",
              "│    │    └─EncoderBlock (encoder_layer_0)                   [32, 197, 768]       [32, 197, 768]       (7,087,872)          False\n",
              "│    │    └─EncoderBlock (encoder_layer_1)                   [32, 197, 768]       [32, 197, 768]       (7,087,872)          False\n",
              "│    │    └─EncoderBlock (encoder_layer_2)                   [32, 197, 768]       [32, 197, 768]       (7,087,872)          False\n",
              "│    │    └─EncoderBlock (encoder_layer_3)                   [32, 197, 768]       [32, 197, 768]       (7,087,872)          False\n",
              "│    │    └─EncoderBlock (encoder_layer_4)                   [32, 197, 768]       [32, 197, 768]       (7,087,872)          False\n",
              "│    │    └─EncoderBlock (encoder_layer_5)                   [32, 197, 768]       [32, 197, 768]       (7,087,872)          False\n",
              "│    │    └─EncoderBlock (encoder_layer_6)                   [32, 197, 768]       [32, 197, 768]       (7,087,872)          False\n",
              "│    │    └─EncoderBlock (encoder_layer_7)                   [32, 197, 768]       [32, 197, 768]       (7,087,872)          False\n",
              "│    │    └─EncoderBlock (encoder_layer_8)                   [32, 197, 768]       [32, 197, 768]       7,087,872            True\n",
              "│    │    └─EncoderBlock (encoder_layer_9)                   [32, 197, 768]       [32, 197, 768]       7,087,872            True\n",
              "│    │    └─EncoderBlock (encoder_layer_10)                  [32, 197, 768]       [32, 197, 768]       7,087,872            True\n",
              "│    │    └─EncoderBlock (encoder_layer_11)                  [32, 197, 768]       [32, 197, 768]       7,087,872            True\n",
              "│    └─LayerNorm (ln)                                        [32, 197, 768]       [32, 197, 768]       (1,536)              False\n",
              "├─Sequential (heads)                                         [32, 768]            [32, 2]              --                   True\n",
              "│    └─Sequential (head)                                     [32, 768]            [32, 2]              --                   True\n",
              "│    │    └─Linear (0)                                       [32, 768]            [32, 512]            393,728              True\n",
              "│    │    └─ReLU (1)                                         [32, 512]            [32, 512]            --                   --\n",
              "│    │    └─Dropout (2)                                      [32, 512]            [32, 512]            --                   --\n",
              "│    │    └─Linear (3)                                       [32, 512]            [32, 256]            131,328              True\n",
              "│    │    └─ReLU (4)                                         [32, 256]            [32, 256]            --                   --\n",
              "│    │    └─Linear (5)                                       [32, 256]            [32, 2]              514                  True\n",
              "============================================================================================================================================\n",
              "Total params: 86,324,226\n",
              "Trainable params: 28,877,058\n",
              "Non-trainable params: 57,447,168\n",
              "Total mult-adds (Units.GIGABYTES): 5.54\n",
              "============================================================================================================================================\n",
              "Input size (MB): 19.27\n",
              "Forward/backward pass size (MB): 3330.93\n",
              "Params size (MB): 231.29\n",
              "Estimated Total Size (MB): 3581.50\n",
              "============================================================================================================================================"
            ]
          },
          "execution_count": 6,
          "metadata": {},
          "output_type": "execute_result"
        }
      ],
      "source": [
        "import torchinfo\n",
        "from torchinfo import summary\n",
        "\n",
        "# Print a summary using torchinfo (uncomment for actual output)\n",
        "summary(model=pretrained_vit, \n",
        "        input_size=(32, 3, 224, 224), # (batch_size, color_channels, height, width)\n",
        "        # col_names=[\"input_size\"], # uncomment for smaller output\n",
        "        col_names=[\"input_size\", \"output_size\", \"num_params\", \"trainable\"],\n",
        "        col_width=20,\n",
        "        row_settings=[\"var_names\"]\n",
        ")"
      ]
    },
    {
      "cell_type": "code",
      "execution_count": 7,
      "metadata": {},
      "outputs": [
        {
          "name": "stdout",
          "output_type": "stream",
          "text": [
            "ImageClassification(\n",
            "    crop_size=[224]\n",
            "    resize_size=[256]\n",
            "    mean=[0.485, 0.456, 0.406]\n",
            "    std=[0.229, 0.224, 0.225]\n",
            "    interpolation=InterpolationMode.BILINEAR\n",
            ")\n"
          ]
        }
      ],
      "source": [
        "# Get automatic transforms from pretrained ViT weights\n",
        "pretrained_vit_transforms = pretrained_vit_weights.transforms()\n",
        "print(pretrained_vit_transforms)"
      ]
    },
    {
      "cell_type": "code",
      "execution_count": 8,
      "metadata": {},
      "outputs": [
        {
          "name": "stdout",
          "output_type": "stream",
          "text": [
            "Sampled from /Users/mandylee/Documents/AI/GenAIProject/MarchRuns/DFs/train_set.csv:\n",
            "label\n",
            "0    4000\n",
            "1    4000\n",
            "Name: count, dtype: int64\n",
            "========================================\n",
            "Sampled from /Users/mandylee/Documents/AI/GenAIProject/MarchRuns/DFs/test_set.csv:\n",
            "label\n",
            "1    1000\n",
            "0    1000\n",
            "Name: count, dtype: int64\n",
            "========================================\n"
          ]
        }
      ],
      "source": [
        "import pandas as pd\n",
        "import torch\n",
        "from torchvision import transforms\n",
        "from torch.utils.data import DataLoader\n",
        "from csv_dataset import CSVDataset  # Import your dataset class\n",
        "\n",
        "# Define transformations\n",
        "train_transform = transforms.Compose([\n",
        "    transforms.RandomResizedCrop(224),     # Random crop and resize to 224x224\n",
        "    transforms.RandomRotation(20),         # Rotate randomly by ±20 degrees\n",
        "    transforms.RandomHorizontalFlip(p=0.5),# Flip horizontally with 50% chance\n",
        "    transforms.RandomAffine(degrees=0, translate=(0.2, 0.2)), # Width & Height shift\n",
        "    transforms.ColorJitter(brightness=0.2, contrast=0.2, saturation=0.2, hue=0.1), # Brightness & color shifts\n",
        "    transforms.RandomPerspective(distortion_scale=0.2, p=0.5), # Perspective distortion\n",
        "    transforms.ToTensor(),                 # Convert to tensor\n",
        "    transforms.Normalize(mean=[0.485, 0.456, 0.406], std=[0.229, 0.224, 0.225]) # Normalize\n",
        "])\n",
        "\n",
        "# No augmentation for validation/testing\n",
        "val_transform = transforms.Compose([\n",
        "    transforms.Resize((224, 224)),   # Resize to match ViT input size\n",
        "    transforms.ToTensor(),\n",
        "    transforms.Normalize(mean=[0.485, 0.456, 0.406], std=[0.229, 0.224, 0.225])\n",
        "])\n",
        "\n",
        "\n",
        "# Function to sample balanced data\n",
        "def sample_balanced_data(csv_path, num_samples):\n",
        "    df = pd.read_csv(csv_path)\n",
        "\n",
        "    # Split into Real (0) and Fake (1)\n",
        "    real = df[df.iloc[:, 1] == 0].sample(n=num_samples // 2, random_state=42)\n",
        "    fake = df[df.iloc[:, 1] == 1].sample(n=num_samples // 2, random_state=42)\n",
        "\n",
        "    sampled_df = pd.concat([real, fake]).sample(frac=1, random_state=42).reset_index(drop=True)\n",
        "\n",
        "    # Print label distribution\n",
        "    print(f\"Sampled from {csv_path}:\")\n",
        "    print(sampled_df.iloc[:, 1].value_counts())  # Prints count of each label\n",
        "    print(\"=\" * 40)  # Separator for readability\n",
        "\n",
        "    return sampled_df\n",
        "\n",
        "# Sample datasets\n",
        "train_df = sample_balanced_data(\"/Users/mandylee/Documents/AI/GenAIProject/MarchRuns/DFs/train_set.csv\", 8000)\n",
        "test_df = sample_balanced_data(\"/Users/mandylee/Documents/AI/GenAIProject/MarchRuns/DFs/test_set.csv\", 2000)\n",
        "\n",
        "# Save sampled data\n",
        "train_df.to_csv(\"sampled_train.csv\", index=False)\n",
        "test_df.to_csv(\"sampled_test.csv\", index=False)\n",
        "\n",
        "# Create datasets with transformations\n",
        "train_data = CSVDataset(\"sampled_train.csv\", transform=train_transform)\n",
        "test_data = CSVDataset(\"sampled_test.csv\", transform=val_transform)\n",
        "\n",
        "# Create DataLoaders\n",
        "train_dataloader = DataLoader(train_data, batch_size=32, shuffle=True, num_workers=4, pin_memory=True)\n",
        "test_dataloader = DataLoader(test_data, batch_size=32, shuffle=False, num_workers=4, pin_memory=True)\n",
        "\n",
        "# Class names\n",
        "class_names = [\"Real\", \"Fake\"]"
      ]
    },
    {
      "cell_type": "code",
      "execution_count": 9,
      "metadata": {},
      "outputs": [],
      "source": [
        "import torch\n",
        "import time\n",
        "\n",
        "class EarlyStopping:\n",
        "    \"\"\"Stop training if validation loss doesn't improve after patience epochs.\"\"\"\n",
        "    def __init__(self, patience=3, min_delta=0.001):\n",
        "        self.patience = patience\n",
        "        self.min_delta = min_delta\n",
        "        self.best_loss = float(\"inf\")\n",
        "        self.counter = 0\n",
        "        self.early_stop = False\n",
        "\n",
        "    def __call__(self, val_loss):\n",
        "        if val_loss < self.best_loss - self.min_delta:\n",
        "            self.best_loss = val_loss\n",
        "            self.counter = 0  # Reset counter if loss improves\n",
        "        else:\n",
        "            self.counter += 1  # Increment counter if no improvement\n",
        "            if self.counter >= self.patience:\n",
        "                self.early_stop = True\n",
        "\n",
        "def train(model, train_dataloader, test_dataloader, optimizer, loss_fn, epochs, device, patience=3):\n",
        "    model.to(device)\n",
        "    history = {\"train_loss\": [], \"test_loss\": [], \"train_acc\": [], \"test_acc\": []}\n",
        "    early_stopper = EarlyStopping(patience=patience)\n",
        "\n",
        "    for epoch in range(epochs):\n",
        "        print(f\"\\nEpoch {epoch+1}/{epochs}\")\n",
        "        start_time = time.time()\n",
        "\n",
        "        # Training\n",
        "        model.train()\n",
        "        train_loss, train_correct = 0, 0\n",
        "        total_batches = len(train_dataloader)\n",
        "\n",
        "        for batch_idx, (images, labels) in enumerate(train_dataloader):\n",
        "            images, labels = images.to(device), labels.to(device)\n",
        "\n",
        "            optimizer.zero_grad()\n",
        "            outputs = model(images)\n",
        "            loss = loss_fn(outputs, labels)\n",
        "            loss.backward()\n",
        "            optimizer.step()\n",
        "\n",
        "            train_loss += loss.item() * images.size(0)\n",
        "            train_correct += (outputs.argmax(dim=1) == labels).sum().item()\n",
        "\n",
        "            # Print progress every 100 batches\n",
        "            if batch_idx % 100 == 0 or batch_idx == total_batches - 1:\n",
        "                print(f\"  Batch {batch_idx+1}/{total_batches} - Loss: {loss.item():.4f}\")\n",
        "\n",
        "        # Validation\n",
        "        model.eval()\n",
        "        test_loss, test_correct = 0, 0\n",
        "        with torch.no_grad():\n",
        "            for images, labels in test_dataloader:\n",
        "                images, labels = images.to(device), labels.to(device)\n",
        "                outputs = model(images)\n",
        "                loss = loss_fn(outputs, labels)\n",
        "\n",
        "                test_loss += loss.item() * images.size(0)\n",
        "                test_correct += (outputs.argmax(dim=1) == labels).sum().item()\n",
        "\n",
        "        # Compute epoch loss & accuracy\n",
        "        train_loss /= len(train_dataloader.dataset)\n",
        "        test_loss /= len(test_dataloader.dataset)\n",
        "        train_acc = train_correct / len(train_dataloader.dataset)\n",
        "        test_acc = test_correct / len(test_dataloader.dataset)\n",
        "\n",
        "        history[\"train_loss\"].append(train_loss)\n",
        "        history[\"test_loss\"].append(test_loss)\n",
        "        history[\"train_acc\"].append(train_acc)\n",
        "        history[\"test_acc\"].append(test_acc)\n",
        "\n",
        "        print(f\"Train Loss: {train_loss:.4f}, Train Acc: {train_acc:.4f}\")\n",
        "        print(f\"Test Loss: {test_loss:.4f}, Test Acc: {test_acc:.4f}\")\n",
        "        print(f\"Time: {time.time() - start_time:.2f} sec\\n\")\n",
        "\n",
        "        # Check for early stopping\n",
        "        early_stopper(test_loss)\n",
        "        if early_stopper.early_stop:\n",
        "            print(\"Early stopping triggered. Stopping training.\")\n",
        "            break\n",
        "\n",
        "    return history"
      ]
    },
    {
      "cell_type": "code",
      "execution_count": 10,
      "metadata": {},
      "outputs": [
        {
          "name": "stdout",
          "output_type": "stream",
          "text": [
            "Sample batch shape: torch.Size([32, 3, 224, 224])\n",
            "Sample labels: tensor([0, 0, 1, 0, 1, 0, 0, 0, 1, 1, 0, 1, 0, 1, 1, 0, 0, 1, 1, 1, 0, 1, 1, 1,\n",
            "        1, 0, 0, 1, 0, 1, 0, 1])\n"
          ]
        }
      ],
      "source": [
        "# Check if DataLoader returns data\n",
        "train_iter = iter(train_dataloader)\n",
        "sample_images, sample_labels = next(train_iter)\n",
        "\n",
        "print(f\"Sample batch shape: {sample_images.shape}\")\n",
        "print(f\"Sample labels: {sample_labels}\")\n"
      ]
    },
    {
      "cell_type": "code",
      "execution_count": 11,
      "metadata": {},
      "outputs": [
        {
          "name": "stdout",
          "output_type": "stream",
          "text": [
            "\n",
            "Epoch 1/10\n",
            "  Batch 1/250 - Loss: 0.6983\n",
            "  Batch 101/250 - Loss: 0.5589\n",
            "  Batch 201/250 - Loss: 0.4921\n",
            "  Batch 250/250 - Loss: 0.6093\n",
            "Train Loss: 0.5193, Train Acc: 0.7324\n",
            "Test Loss: 0.3506, Test Acc: 0.8535\n",
            "Time: 1295.19 sec\n",
            "\n",
            "\n",
            "Epoch 2/10\n",
            "  Batch 1/250 - Loss: 0.3947\n",
            "  Batch 101/250 - Loss: 0.4826\n",
            "  Batch 201/250 - Loss: 0.3349\n",
            "  Batch 250/250 - Loss: 0.3856\n",
            "Train Loss: 0.3671, Train Acc: 0.8417\n",
            "Test Loss: 0.3373, Test Acc: 0.8605\n",
            "Time: 1280.70 sec\n",
            "\n",
            "\n",
            "Epoch 3/10\n",
            "  Batch 1/250 - Loss: 0.3686\n",
            "  Batch 101/250 - Loss: 0.3425\n",
            "  Batch 201/250 - Loss: 0.2747\n",
            "  Batch 250/250 - Loss: 0.4358\n",
            "Train Loss: 0.3313, Train Acc: 0.8575\n",
            "Test Loss: 0.2027, Test Acc: 0.9255\n",
            "Time: 1280.92 sec\n",
            "\n",
            "\n",
            "Epoch 4/10\n",
            "  Batch 1/250 - Loss: 0.4621\n",
            "  Batch 101/250 - Loss: 0.2645\n",
            "  Batch 201/250 - Loss: 0.2310\n",
            "  Batch 250/250 - Loss: 0.2625\n",
            "Train Loss: 0.3061, Train Acc: 0.8740\n",
            "Test Loss: 0.3226, Test Acc: 0.8755\n",
            "Time: 1246.51 sec\n",
            "\n",
            "\n",
            "Epoch 5/10\n",
            "  Batch 1/250 - Loss: 0.2913\n",
            "  Batch 101/250 - Loss: 0.3007\n",
            "  Batch 201/250 - Loss: 0.2875\n",
            "  Batch 250/250 - Loss: 0.2278\n",
            "Train Loss: 0.2688, Train Acc: 0.8874\n",
            "Test Loss: 0.1836, Test Acc: 0.9420\n",
            "Time: 1310.51 sec\n",
            "\n",
            "\n",
            "Epoch 6/10\n",
            "  Batch 1/250 - Loss: 0.2961\n",
            "  Batch 101/250 - Loss: 0.2564\n",
            "  Batch 201/250 - Loss: 0.2889\n",
            "  Batch 250/250 - Loss: 0.2194\n",
            "Train Loss: 0.2500, Train Acc: 0.8948\n",
            "Test Loss: 0.2117, Test Acc: 0.9225\n",
            "Time: 1288.30 sec\n",
            "\n",
            "\n",
            "Epoch 7/10\n",
            "  Batch 1/250 - Loss: 0.3680\n",
            "  Batch 101/250 - Loss: 0.1648\n",
            "  Batch 201/250 - Loss: 0.0781\n",
            "  Batch 250/250 - Loss: 0.4075\n",
            "Train Loss: 0.2419, Train Acc: 0.9030\n",
            "Test Loss: 0.2174, Test Acc: 0.9185\n",
            "Time: 1220.76 sec\n",
            "\n",
            "\n",
            "Epoch 8/10\n",
            "  Batch 1/250 - Loss: 0.3038\n",
            "  Batch 101/250 - Loss: 0.1629\n",
            "  Batch 201/250 - Loss: 0.2724\n",
            "  Batch 250/250 - Loss: 0.1725\n",
            "Train Loss: 0.2250, Train Acc: 0.9100\n",
            "Test Loss: 0.1560, Test Acc: 0.9515\n",
            "Time: 1184.03 sec\n",
            "\n",
            "\n",
            "Epoch 9/10\n",
            "  Batch 1/250 - Loss: 0.4201\n",
            "  Batch 101/250 - Loss: 0.3420\n",
            "  Batch 201/250 - Loss: 0.2025\n",
            "  Batch 250/250 - Loss: 0.0833\n",
            "Train Loss: 0.2154, Train Acc: 0.9154\n",
            "Test Loss: 0.1670, Test Acc: 0.9475\n",
            "Time: 1230.61 sec\n",
            "\n",
            "\n",
            "Epoch 10/10\n",
            "  Batch 1/250 - Loss: 0.1734\n",
            "  Batch 101/250 - Loss: 0.1208\n",
            "  Batch 201/250 - Loss: 0.1526\n",
            "  Batch 250/250 - Loss: 0.1937\n",
            "Train Loss: 0.2081, Train Acc: 0.9174\n",
            "Test Loss: 0.1466, Test Acc: 0.9540\n",
            "Time: 1145.67 sec\n",
            "\n"
          ]
        }
      ],
      "source": [
        "# Move model to device\n",
        "device = torch.device(\"cuda\" if torch.cuda.is_available() else \"cpu\")\n",
        "\n",
        "# Create optimizer and loss function\n",
        "optimizer = torch.optim.Adam(params=pretrained_vit.parameters(), lr=0.0001)\n",
        "loss_fn = torch.nn.CrossEntropyLoss()\n",
        "\n",
        "# Train the model\n",
        "pretrained_vit_results = train(\n",
        "    model=pretrained_vit,\n",
        "    train_dataloader=train_dataloader,\n",
        "    test_dataloader=test_dataloader,\n",
        "    optimizer=optimizer,\n",
        "    loss_fn=loss_fn,\n",
        "    epochs=10,\n",
        "    device=device,\n",
        "    patience=3\n",
        ")"
      ]
    },
    {
      "cell_type": "code",
      "execution_count": 12,
      "metadata": {},
      "outputs": [
        {
          "data": {
            "image/png": "[encoded data removed]",
            "text/plain": [
              "<Figure size 800x600 with 1 Axes>"
            ]
          },
          "metadata": {},
          "output_type": "display_data"
        },
        {
          "data": {
            "text/plain": [
              "<Figure size 640x480 with 0 Axes>"
            ]
          },
          "metadata": {},
          "output_type": "display_data"
        }
      ],
      "source": [
        "import matplotlib.pyplot as plt\n",
        "\n",
        "# Extract loss values\n",
        "train_loss = pretrained_vit_results[\"train_loss\"]\n",
        "test_loss = pretrained_vit_results[\"test_loss\"]\n",
        "\n",
        "# Plot\n",
        "plt.figure(figsize=(8, 6))\n",
        "plt.plot(train_loss, label=\"Train Loss\", marker=\"o\")\n",
        "plt.plot(test_loss, label=\"Test Loss\", marker=\"o\")\n",
        "plt.xlabel(\"Epochs\")\n",
        "plt.ylabel(\"Loss\")\n",
        "plt.title(\"Training & Validation Loss\")\n",
        "plt.legend()\n",
        "plt.grid()\n",
        "plt.show()\n",
        "plt.savefig(\"training_loss_plot.png\")"
      ]
    },
    {
      "cell_type": "code",
      "execution_count": 13,
      "metadata": {},
      "outputs": [],
      "source": [
        "torch.save(pretrained_vit, 'model2_complete.pth')\n"
      ]
    },
    {
      "cell_type": "code",
      "execution_count": 14,
      "metadata": {},
      "outputs": [
        {
          "data": {
            "image/png": "[encoded data removed]",
            "text/plain": [
              "<Figure size 800x600 with 1 Axes>"
            ]
          },
          "metadata": {},
          "output_type": "display_data"
        },
        {
          "data": {
            "text/plain": [
              "<Figure size 640x480 with 0 Axes>"
            ]
          },
          "metadata": {},
          "output_type": "display_data"
        }
      ],
      "source": [
        "epochs = list(range(1, 11))  # 10 epochs\n",
        "\n",
        "# Extracted from your logs\n",
        "train_accuracies = [0.7364, 0.8245, 0.8455, 0.8605, 0.8690, 0.8748, 0.8778, 0.8828, 0.8890, 0.8891]\n",
        "test_accuracies = [0.7935, 0.8120, 0.8345, 0.8430, 0.8440, 0.8450, 0.8520, 0.8575, 0.8520, 0.8550]\n",
        "\n",
        "import matplotlib.pyplot as plt\n",
        "\n",
        "# Plot accuracy\n",
        "plt.figure(figsize=(8, 6))\n",
        "plt.plot(epochs, train_accuracies, label=\"Train Accuracy\", marker=\"o\")\n",
        "plt.plot(epochs, test_accuracies, label=\"Test Accuracy\", marker=\"o\")\n",
        "plt.xlabel(\"Epochs\")\n",
        "plt.ylabel(\"Accuracy\")\n",
        "plt.title(\"Training & Test Accuracy\")\n",
        "plt.legend()\n",
        "plt.grid()\n",
        "plt.show()\n",
        "plt.savefig(\"training_accuracy_plot.png\")\n"
      ]
    },
    {
      "cell_type": "code",
      "execution_count": 15,
      "metadata": {},
      "outputs": [],
      "source": [
        "# Reload my test dataset \n",
        "import pandas as pd\n",
        "import torch\n",
        "from torchvision import transforms\n",
        "from torch.utils.data import DataLoader\n",
        "from csv_dataset import CSVDataset  # Ensure this class is implemented correctly\n",
        "\n",
        "# Define transformations (same as used during training)\n",
        "transform = transforms.Compose([\n",
        "    transforms.Resize((224, 224)),\n",
        "    transforms.ToTensor(),\n",
        "    transforms.Normalize(mean=[0.485, 0.456, 0.406], std=[0.229, 0.224, 0.225])  # ImageNet normalization\n",
        "])\n",
        "\n",
        "# Reload sampled test dataset\n",
        "test_df = pd.read_csv(\"sampled_test.csv\")  # Ensure file exists\n",
        "\n",
        "# Create dataset & dataloader\n",
        "test_data = CSVDataset(\"sampled_test.csv\", transform=transform)\n",
        "test_dataloader = DataLoader(test_data, batch_size=32, shuffle=False, num_workers=4, pin_memory=True)\n"
      ]
    },
    {
      "cell_type": "code",
      "execution_count": 16,
      "metadata": {},
      "outputs": [
        {
          "name": "stdout",
          "output_type": "stream",
          "text": [
            "Batch shape: torch.Size([32, 3, 224, 224]) torch.Size([32])\n",
            "Sample labels: tensor([1, 0, 1, 0, 1, 1, 0, 1, 0, 1])\n"
          ]
        }
      ],
      "source": [
        "# Debug: Check if test_dataloader loads data correctly\n",
        "data_iter = iter(test_dataloader)\n",
        "try:\n",
        "    images, labels = next(data_iter)\n",
        "    print(\"Batch shape:\", images.shape, labels.shape)\n",
        "    print(\"Sample labels:\", labels[:10])  # Print first 10 labels\n",
        "except StopIteration:\n",
        "    print(\"Error: test_dataloader is empty! Check your dataset loading.\")\n"
      ]
    },
    {
      "cell_type": "code",
      "execution_count": 21,
      "metadata": {},
      "outputs": [
        {
          "name": "stderr",
          "output_type": "stream",
          "text": [
            "Processing Batches: 100%|██████████| 63/63 [02:16<00:00,  2.16s/batch]\n"
          ]
        },
        {
          "data": {
            "text/plain": [
              "<Figure size 600x600 with 0 Axes>"
            ]
          },
          "metadata": {},
          "output_type": "display_data"
        },
        {
          "data": {
            "image/png": "[encoded data removed]",
            "text/plain": [
              "<Figure size 640x480 with 2 Axes>"
            ]
          },
          "metadata": {},
          "output_type": "display_data"
        },
        {
          "name": "stdout",
          "output_type": "stream",
          "text": [
            "              precision    recall  f1-score   support\n",
            "\n",
            "        Real       0.92      0.99      0.96      1000\n",
            "        Fake       0.99      0.92      0.95      1000\n",
            "\n",
            "    accuracy                           0.95      2000\n",
            "   macro avg       0.96      0.95      0.95      2000\n",
            "weighted avg       0.96      0.95      0.95      2000\n",
            "\n"
          ]
        }
      ],
      "source": [
        "import torch\n",
        "import numpy as np\n",
        "import matplotlib.pyplot as plt\n",
        "from sklearn.metrics import confusion_matrix, ConfusionMatrixDisplay, classification_report\n",
        "from tqdm import tqdm  # Import tqdm for progress bar\n",
        "\n",
        "# Set device\n",
        "device = torch.device(\"cuda\" if torch.cuda.is_available() else \"cpu\")\n",
        "\n",
        "# Load trained model\n",
        "model_path = \"/Users/mandylee/Documents/AI/GenAIProject/MarchRuns/ViT Models/ViT_2 finetune/model2_complete.pth\"\n",
        "pretrained_vit = torch.load(model_path, map_location=device, weights_only=False)\n",
        "pretrained_vit.to(device)\n",
        "pretrained_vit.eval()\n",
        "\n",
        "# Get predictions\n",
        "all_preds, all_labels = [], []\n",
        "\n",
        "# Add tqdm progress bar\n",
        "with torch.no_grad():\n",
        "    for images, labels in tqdm(test_dataloader, desc=\"Processing Batches\", unit=\"batch\"):\n",
        "        images, labels = images.to(device), labels.to(device)\n",
        "        outputs = pretrained_vit(images)\n",
        "        preds = torch.argmax(outputs, dim=1)\n",
        "        \n",
        "        all_preds.extend(preds.cpu().numpy())\n",
        "        all_labels.extend(labels.cpu().numpy())\n",
        "\n",
        "# Convert lists to NumPy arrays\n",
        "all_preds = np.array(all_preds)\n",
        "all_labels = np.array(all_labels)\n",
        "\n",
        "# Create and plot confusion matrix\n",
        "cm = confusion_matrix(all_labels, all_preds)\n",
        "disp = ConfusionMatrixDisplay(confusion_matrix=cm, display_labels=[\"Real\", \"Fake\"])\n",
        "\n",
        "# Save the confusion matrix as an image\n",
        "plt.figure(figsize=(6, 6))\n",
        "disp.plot(cmap=plt.cm.Blues, values_format=\"d\")\n",
        "plt.title(\"Confusion Matrix\")\n",
        "plt.savefig(\"confusion_matrix.png\")  # Save as PNG\n",
        "plt.show()\n",
        "\n",
        "# Print classification report\n",
        "print(classification_report(all_labels, all_preds, target_names=[\"Real\", \"Fake\"]))\n"
      ]
    },
    {
      "cell_type": "code",
      "execution_count": 22,
      "metadata": {},
      "outputs": [
        {
          "name": "stdout",
          "output_type": "stream",
          "text": [
            "              precision    recall  f1-score   support\n",
            "\n",
            "        Real       0.92      0.99      0.96      1000\n",
            "        Fake       0.99      0.92      0.95      1000\n",
            "\n",
            "    accuracy                           0.95      2000\n",
            "   macro avg       0.96      0.95      0.95      2000\n",
            "weighted avg       0.96      0.95      0.95      2000\n",
            "\n"
          ]
        }
      ],
      "source": [
        "# Print and save classification report\n",
        "report = classification_report(all_labels, all_preds, target_names=[\"Real\", \"Fake\"], output_dict=True)\n",
        "print(classification_report(all_labels, all_preds, target_names=[\"Real\", \"Fake\"]))\n",
        "\n",
        "# Save classification report as CSV\n",
        "df_report = pd.DataFrame(report).transpose()\n",
        "df_report.to_csv(\"classification_report.csv\", index=True)"
      ]
    }
  ],
  "metadata": {
    "accelerator": "GPU",
    "colab": {
      "gpuType": "T4",
      "provenance": []
    },
    "kernelspec": {
      "display_name": "base",
      "language": "python",
      "name": "python3"
    },
    "language_info": {
      "codemirror_mode": {
        "name": "ipython",
        "version": 3
      },
      "file_extension": ".py",
      "mimetype": "text/x-python",
      "name": "python",
      "nbconvert_exporter": "python",
      "pygments_lexer": "ipython3",
      "version": "3.12.7"
    }
  },
  "nbformat": 4,
  "nbformat_minor": 0
}
